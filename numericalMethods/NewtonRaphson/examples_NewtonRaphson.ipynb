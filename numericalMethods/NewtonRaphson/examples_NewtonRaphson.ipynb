{
 "cells": [
  {
   "cell_type": "code",
   "execution_count": 6,
   "metadata": {},
   "outputs": [],
   "source": [
    "import numpy as np\n",
    "from NewtonRaphson import NewtonRaphson"
   ]
  },
  {
   "cell_type": "markdown",
   "metadata": {},
   "source": [
    "## Newton-Raphson Method Example\n",
    "\n",
    "We aim to find a root of the function:\n",
    "$$ \n",
    "f(x) = x - 3 \\cdot (1 - e^{-x}) \n",
    "$$\n",
    "Utilizing its derivative:\n",
    "$$ \n",
    "f'(x) = 1 + 3 \\cdot e^{-x} \n",
    "$$\n",
    "\n",
    "### Parameters Used:\n",
    "- **Initial Guess:** \n",
    "  $$ x_0 = 1 $$\n",
    "  \n",
    "- **Tolerance:** \n",
    "  Either \n",
    "  $$ \\text{tol} = 10^{-6} $$ \n",
    "  or \n",
    "  $$ \\text{tol} = 1 \\times 10^{-6} $$\n",
    "  \n",
    "- **Maximum Iterations:** \n",
    "  $$ \\text{max\\_iter} = 100 $$\n"
   ]
  },
  {
   "cell_type": "code",
   "execution_count": 10,
   "metadata": {},
   "outputs": [],
   "source": [
    "f = lambda x: x - 3*(1-np.exp(-x))\n",
    "df = lambda x: 1 + 3*np.exp(-x)\n",
    "max_iter = 100\n",
    "tol = 1e-6\n",
    "x0 = 1"
   ]
  },
  {
   "cell_type": "code",
   "execution_count": 11,
   "metadata": {},
   "outputs": [
    {
     "name": "stdout",
     "output_type": "stream",
     "text": [
      "2.8214389533415574\n"
     ]
    }
   ],
   "source": [
    "print(NewtonRaphson(f, df, x0, tol, max_iter))"
   ]
  },
  {
   "cell_type": "code",
   "execution_count": null,
   "metadata": {},
   "outputs": [],
   "source": []
  }
 ],
 "metadata": {
  "kernelspec": {
   "display_name": ".venv",
   "language": "python",
   "name": "python3"
  },
  "language_info": {
   "codemirror_mode": {
    "name": "ipython",
    "version": 3
   },
   "file_extension": ".py",
   "mimetype": "text/x-python",
   "name": "python",
   "nbconvert_exporter": "python",
   "pygments_lexer": "ipython3",
   "version": "3.10.10"
  },
  "orig_nbformat": 4
 },
 "nbformat": 4,
 "nbformat_minor": 2
}
